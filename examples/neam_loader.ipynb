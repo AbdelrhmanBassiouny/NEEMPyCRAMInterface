{
 "cells": [
  {
   "cell_type": "code",
   "execution_count": 1,
   "id": "initial_id",
   "metadata": {
    "collapsed": true,
    "ExecuteTime": {
     "end_time": "2024-03-12T12:48:50.238938432Z",
     "start_time": "2024-03-12T12:48:49.709753508Z"
    }
   },
   "outputs": [
    {
     "name": "stderr",
     "output_type": "stream",
     "text": [
      "Unknown attribute \"type\" in /robot[@name='pr2']/link[@name='base_laser_link']\n",
      "Unknown attribute \"type\" in /robot[@name='pr2']/link[@name='wide_stereo_optical_frame']\n",
      "Unknown attribute \"type\" in /robot[@name='pr2']/link[@name='narrow_stereo_optical_frame']\n",
      "Unknown attribute \"type\" in /robot[@name='pr2']/link[@name='laser_tilt_link']\n",
      "Failed to import Giskard messages\n",
      "Could not import RoboKudo messages, RoboKudo interface could not be initialized\n",
      "pybullet build time: Nov 28 2023 23:51:11\n"
     ]
    }
   ],
   "source": [
    "import time\n",
    "\n",
    "from pycram import neem_loader as nl\n",
    "from pycram.datastructures.enums import ObjectType, WorldMode\n",
    "from pycram.world_concepts.world_object import Object\n",
    "from pycram.worlds.bullet_world import BulletWorld\n",
    "from sqlalchemy import create_engine"
   ]
  },
  {
   "cell_type": "code",
   "execution_count": 2,
   "outputs": [],
   "source": [
    "# Connection to MariaDB NEEM database.\n",
    "sql_engine = create_engine(\"mysql+pymysql://neem@neem-2.informatik.uni-bremen.de/neems\")"
   ],
   "metadata": {
    "collapsed": false,
    "ExecuteTime": {
     "end_time": "2024-03-12T12:48:50.252170906Z",
     "start_time": "2024-03-12T12:48:50.238944843Z"
    }
   },
   "id": "7d77264aa20bbf29"
  },
  {
   "cell_type": "code",
   "execution_count": 3,
   "outputs": [],
   "source": [
    "all_neems_df = nl.get_dataframe_from_sql_query_file('../resources/get_pouring_neems.sql', sql_engine)"
   ],
   "metadata": {
    "collapsed": false,
    "ExecuteTime": {
     "end_time": "2024-03-12T12:48:51.786284187Z",
     "start_time": "2024-03-12T12:48:50.253227477Z"
    }
   },
   "id": "850b62a90c5fec76"
  },
  {
   "cell_type": "code",
   "execution_count": 4,
   "outputs": [
    {
     "name": "stdout",
     "output_type": "stream",
     "text": [
      "[('63d93736bc1f60335b4418d7', 'iai-apartment:SM_BigBowl_1'), ('63d93736bc1f60335b4418d7', 'iai-apartment:jeroen_cup_1'), ('6411e70a3cf55ecbffe2e51a', 'iai-apartment:SM_BigBowl_1'), ('6411e70a3cf55ecbffe2e51a', 'iai-apartment:SM_Pot_1'), ('6413244caf7532c49c6d80b0', 'iai-apartment:SM_Pitcher_1'), ('6413244caf7532c49c6d80b0', 'iai-apartment:SM_BigBowl_1'), ('6413244caf7532c49c6d80b0', 'iai-apartment:SM_MilkPitcher_1'), ('6413244caf7532c49c6d80b0', 'iai-apartment:SM_CokeBottle_1')]\n"
     ]
    }
   ],
   "source": [
    "# neem_ids = nl.get_neem_ids(all_neems_df)\n",
    "# neem_df = nl.filter_by_neem_id(all_neems_df, neem_ids[0])\n",
    "neem_df = nl.filter_by_participant_type(all_neems_df, 'soma:DesignedContainer')\n",
    "# neem_df = nl.normalize_time(neem_df)\n",
    "participants = nl.get_participants_per_neem(neem_df)\n",
    "print(participants)\n",
    "environment = nl.get_environment(neem_df)\n",
    "environment_path = 'apartment.urdf' if environment[0] == 'Kitchen' else environment[0]\n",
    "participants_path = {}\n",
    "for n, p in participants:\n",
    "    if 'cup' in p.lower():\n",
    "        participants_path[(n,p)] = 'jeroen_cup.stl'\n",
    "    elif 'bowl' in p.lower() or 'pot' in p.lower():\n",
    "        participants_path[(n,p)] = 'bowl.stl'\n",
    "    elif 'pitcher' in p.lower():\n",
    "        participants_path[(n,p)] = 'Static_MilkPitcher.stl'\n",
    "    elif 'milk' in p.lower():\n",
    "        participants_path[(n,p)] = 'milk.stl'\n",
    "    elif 'bottle' in p.lower():\n",
    "        participants_path[(n,p)] = 'Static_CokeBottle.stl'\n",
    "    elif 'cereal' in p.lower():\n",
    "        participants_path[(n,p)] = 'cereal.stl'\n",
    "    else:\n",
    "        participants_path[(n,p)] = 'generic_object.stl'"
   ],
   "metadata": {
    "collapsed": false,
    "ExecuteTime": {
     "end_time": "2024-03-12T12:48:51.820272015Z",
     "start_time": "2024-03-12T12:48:51.816880328Z"
    }
   },
   "id": "8cacf8cb768e6d63"
  },
  {
   "cell_type": "code",
   "execution_count": 5,
   "outputs": [
    {
     "name": "stderr",
     "output_type": "stream",
     "text": [
      "Unknown tag \"material\" in /robot[@name='apartment']/link[@name='coffe_machine']/collision[1]\n",
      "Unknown tag \"rgba_color\" in /robot[@name='iai-apartment:SM_BigBowl_1_object']/link[@name='iai-apartment:SM_BigBowl_1_main']/visual[1]/material[@name='white']\n",
      "Unknown tag \"material\" in /robot[@name='apartment']/link[@name='coffe_machine']/collision[1]\n",
      "Unknown tag \"rgba_color\" in /robot[@name='iai-apartment:jeroen_cup_1_object']/link[@name='iai-apartment:jeroen_cup_1_main']/visual[1]/material[@name='white']\n",
      "Unknown tag \"rgba_color\" in /robot[@name='iai-apartment:SM_BigBowl_1_object']/link[@name='iai-apartment:SM_BigBowl_1_main']/visual[1]/material[@name='white']\n",
      "Unknown tag \"rgba_color\" in /robot[@name='iai-apartment:SM_BigBowl_1_object']/link[@name='iai-apartment:SM_BigBowl_1_main']/visual[1]/material[@name='white']\n",
      "Unknown tag \"rgba_color\" in /robot[@name='iai-apartment:SM_BigBowl_1_object']/link[@name='iai-apartment:SM_BigBowl_1_main']/visual[1]/material[@name='white']\n",
      "Unknown tag \"rgba_color\" in /robot[@name='iai-apartment:jeroen_cup_1_object']/link[@name='iai-apartment:jeroen_cup_1_main']/visual[1]/material[@name='white']\n",
      "Unknown tag \"rgba_color\" in /robot[@name='iai-apartment:SM_MilkPitcher_1_object']/link[@name='iai-apartment:SM_MilkPitcher_1_main']/visual[1]/material[@name='white']\n",
      "Unknown tag \"rgba_color\" in /robot[@name='iai-apartment:SM_BigBowl_1_object']/link[@name='iai-apartment:SM_BigBowl_1_main']/visual[1]/material[@name='white']\n",
      "Unknown tag \"rgba_color\" in /robot[@name='iai-apartment:SM_BigBowl_1_object']/link[@name='iai-apartment:SM_BigBowl_1_main']/visual[1]/material[@name='white']\n",
      "Unknown tag \"rgba_color\" in /robot[@name='iai-apartment:SM_BigBowl_1_object']/link[@name='iai-apartment:SM_BigBowl_1_main']/visual[1]/material[@name='white']\n",
      "Unknown tag \"rgba_color\" in /robot[@name='iai-apartment:SM_MilkPitcher_1_object']/link[@name='iai-apartment:SM_MilkPitcher_1_main']/visual[1]/material[@name='white']\n",
      "Unknown tag \"rgba_color\" in /robot[@name='iai-apartment:SM_MilkPitcher_1_object']/link[@name='iai-apartment:SM_MilkPitcher_1_main']/visual[1]/material[@name='white']\n",
      "Unknown tag \"rgba_color\" in /robot[@name='iai-apartment:SM_BigBowl_1_object']/link[@name='iai-apartment:SM_BigBowl_1_main']/visual[1]/material[@name='white']\n",
      "Unknown tag \"rgba_color\" in /robot[@name='iai-apartment:SM_CokeBottle_1_object']/link[@name='iai-apartment:SM_CokeBottle_1_main']/visual[1]/material[@name='white']\n",
      "Unknown tag \"rgba_color\" in /robot[@name='iai-apartment:SM_MilkPitcher_1_object']/link[@name='iai-apartment:SM_MilkPitcher_1_main']/visual[1]/material[@name='white']\n"
     ]
    }
   ],
   "source": [
    "world = BulletWorld(mode=WorldMode.GUI)\n",
    "kitchen = Object(environment[0], ObjectType.ENVIRONMENT, environment_path)\n",
    "neem_ids = nl.get_neem_ids(neem_df)\n",
    "participants_objects = {}\n",
    "for n, p in participants:\n",
    "    if 'bowl' in p.lower() or 'pot' in p.lower():\n",
    "        obj_type = ObjectType.BOWL\n",
    "    elif 'milk' in p.lower():\n",
    "        obj_type = ObjectType.MILK\n",
    "    elif 'cup' in p.lower():\n",
    "        obj_type = ObjectType.JEROEN_CUP\n",
    "    else:\n",
    "        obj_type = ObjectType.GENERIC_OBJECT\n",
    "    participants_objects[(n,p)] = Object(p, obj_type, participants_path[(n,p)])"
   ],
   "metadata": {
    "collapsed": false,
    "ExecuteTime": {
     "end_time": "2024-03-12T12:48:59.868076749Z",
     "start_time": "2024-03-12T12:48:51.820213127Z"
    }
   },
   "id": "f7930607ed1bdafa"
  },
  {
   "cell_type": "code",
   "execution_count": 6,
   "outputs": [],
   "source": [
    "poses = nl.get_poses(neem_df)\n",
    "times = nl.get_stamp(neem_df)\n",
    "participant_names = nl.get_participants(neem_df, unique=False)\n",
    "neem_ids = nl.get_neem_ids(neem_df, unique=False)\n",
    "prev_time = 0\n",
    "for n, p, pose, current_time in zip(neem_ids, participant_names, poses, times):\n",
    "    if prev_time > 0:\n",
    "        wait_time = current_time - prev_time\n",
    "        if wait_time > 1:\n",
    "            wait_time = 1\n",
    "        time.sleep(wait_time)\n",
    "    prev_time = current_time\n",
    "    participants_objects[(n, p)].set_pose(pose)"
   ],
   "metadata": {
    "collapsed": false,
    "ExecuteTime": {
     "end_time": "2024-03-12T12:50:02.508913944Z",
     "start_time": "2024-03-12T12:49:11.723051069Z"
    }
   },
   "id": "f1083c2d14d73881"
  },
  {
   "cell_type": "code",
   "execution_count": 7,
   "outputs": [
    {
     "name": "stderr",
     "output_type": "stream",
     "text": [
      "Exception in thread Thread-12:\n",
      "Traceback (most recent call last):\n",
      "  File \"/usr/lib/python3.8/threading.py\", line 932, in _bootstrap_inner\n",
      "    self.run()\n",
      "  File \"/home/bassioun/cram_ws/src/pycram/src/pycram/worlds/bullet_world.py\", line 381, in run\n",
      "    keys = p.getKeyboardEvents()\n",
      "pybullet.error: Not connected to physics server.\n"
     ]
    },
    {
     "name": "stdout",
     "output_type": "stream",
     "text": [
      "startThreads creating 1 threads.\n",
      "starting thread 0\n",
      "started thread 0 \n",
      "argc=2\n",
      "argv[0] = --unused\n",
      "argv[1] = --start_demo_name=Physics Server\n",
      "ExampleBrowserThreadFunc started\n",
      "X11 functions dynamically loaded using dlopen/dlsym OK!\n",
      "X11 functions dynamically loaded using dlopen/dlsym OK!\n",
      "Creating context\n",
      "Created GL 3.3 context\n",
      "Direct GLX rendering context obtained\n",
      "Making context current\n",
      "GL_VENDOR=NVIDIA Corporation\n",
      "GL_RENDERER=NVIDIA GeForce RTX 4070/PCIe/SSE2\n",
      "GL_VERSION=3.3.0 NVIDIA 535.161.07\n",
      "GL_SHADING_LANGUAGE_VERSION=3.30 NVIDIA via Cg compiler\n",
      "pthread_getconcurrency()=0\n",
      "Version = 3.3.0 NVIDIA 535.161.07\n",
      "Vendor = NVIDIA Corporation\n",
      "Renderer = NVIDIA GeForce RTX 4070/PCIe/SSE2\n",
      "b3Printf: Selected demo: Physics Server\n",
      "startThreads creating 1 threads.\n",
      "starting thread 0\n",
      "started thread 0 \n",
      "MotionThreadFunc thread started\n",
      "ven = NVIDIA Corporation\n",
      "ven = NVIDIA Corporation\n"
     ]
    }
   ],
   "source": [
    "world.exit()"
   ],
   "metadata": {
    "collapsed": false,
    "ExecuteTime": {
     "end_time": "2024-03-12T12:50:13.026923621Z",
     "start_time": "2024-03-12T12:50:12.964910055Z"
    }
   },
   "id": "bfccf62b53b09a1"
  },
  {
   "cell_type": "code",
   "execution_count": null,
   "outputs": [],
   "source": [],
   "metadata": {
    "collapsed": false
   },
   "id": "6fd8a05ce792332d"
  },
  {
   "cell_type": "code",
   "execution_count": null,
   "outputs": [],
   "source": [],
   "metadata": {
    "collapsed": false
   },
   "id": "9372a081288643c2"
  }
 ],
 "metadata": {
  "kernelspec": {
   "display_name": "Python 3",
   "language": "python",
   "name": "python3"
  },
  "language_info": {
   "codemirror_mode": {
    "name": "ipython",
    "version": 2
   },
   "file_extension": ".py",
   "mimetype": "text/x-python",
   "name": "python",
   "nbconvert_exporter": "python",
   "pygments_lexer": "ipython2",
   "version": "2.7.6"
  }
 },
 "nbformat": 4,
 "nbformat_minor": 5
}
